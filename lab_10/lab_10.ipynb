{
 "cells": [
  {
   "cell_type": "code",
   "execution_count": 1,
   "id": "569094fc",
   "metadata": {},
   "outputs": [
    {
     "data": {
      "text/plain": [
       "\u001b[32mimport \u001b[39m\u001b[36m$ivy.$                                  ;\u001b[39m"
      ]
     },
     "execution_count": 1,
     "metadata": {},
     "output_type": "execute_result"
    }
   ],
   "source": [
    "import $ivy.`org.apache.spark::spark-sql:3.0.0`;"
   ]
  },
  {
   "cell_type": "code",
   "execution_count": 2,
   "id": "cfb6c8b2",
   "metadata": {},
   "outputs": [
    {
     "name": "stderr",
     "output_type": "stream",
     "text": [
      "Using Spark's default log4j profile: org/apache/spark/log4j-defaults.properties\n",
      "22/05/19 16:07:10 INFO SparkContext: Running Spark version 3.0.0\n",
      "22/05/19 16:07:10 WARN NativeCodeLoader: Unable to load native-hadoop library for your platform... using builtin-java classes where applicable\n",
      "22/05/19 16:07:10 INFO ResourceUtils: ==============================================================\n",
      "22/05/19 16:07:10 INFO ResourceUtils: Resources for spark.driver:\n",
      "\n",
      "22/05/19 16:07:10 INFO ResourceUtils: ==============================================================\n",
      "22/05/19 16:07:10 INFO SparkContext: Submitted application: scala-spark-notebook\n",
      "22/05/19 16:07:10 INFO SecurityManager: Changing view acls to: root\n",
      "22/05/19 16:07:10 INFO SecurityManager: Changing modify acls to: root\n",
      "22/05/19 16:07:10 INFO SecurityManager: Changing view acls groups to: \n",
      "22/05/19 16:07:10 INFO SecurityManager: Changing modify acls groups to: \n",
      "22/05/19 16:07:10 INFO SecurityManager: SecurityManager: authentication disabled; ui acls disabled; users  with view permissions: Set(root); groups with view permissions: Set(); users  with modify permissions: Set(root); groups with modify permissions: Set()\n",
      "22/05/19 16:07:11 INFO Utils: Successfully started service 'sparkDriver' on port 44601.\n",
      "22/05/19 16:07:11 INFO SparkEnv: Registering MapOutputTracker\n",
      "22/05/19 16:07:11 INFO SparkEnv: Registering BlockManagerMaster\n",
      "22/05/19 16:07:11 INFO BlockManagerMasterEndpoint: Using org.apache.spark.storage.DefaultTopologyMapper for getting topology information\n",
      "22/05/19 16:07:11 INFO BlockManagerMasterEndpoint: BlockManagerMasterEndpoint up\n",
      "22/05/19 16:07:11 INFO SparkEnv: Registering BlockManagerMasterHeartbeat\n",
      "22/05/19 16:07:11 INFO DiskBlockManager: Created local directory at /tmp/blockmgr-26568861-9d27-4219-828d-5272ebb00f25\n",
      "22/05/19 16:07:11 INFO MemoryStore: MemoryStore started with capacity 1080.0 MiB\n",
      "22/05/19 16:07:11 INFO SparkEnv: Registering OutputCommitCoordinator\n",
      "22/05/19 16:07:11 WARN Utils: Service 'SparkUI' could not bind on port 4040. Attempting port 4041.\n",
      "22/05/19 16:07:11 INFO Utils: Successfully started service 'SparkUI' on port 4041.\n",
      "22/05/19 16:07:11 INFO SparkUI: Bound SparkUI to 0.0.0.0, and started at http://8e5c1be3b20b:4041\n",
      "22/05/19 16:07:12 INFO StandaloneAppClient$ClientEndpoint: Connecting to master spark://spark-master:7077...\n",
      "22/05/19 16:07:12 INFO TransportClientFactory: Successfully created connection to spark-master/172.20.0.3:7077 after 30 ms (0 ms spent in bootstraps)\n",
      "22/05/19 16:07:12 INFO StandaloneSchedulerBackend: Connected to Spark cluster with app ID app-20220519160712-0001\n",
      "22/05/19 16:07:12 INFO Utils: Successfully started service 'org.apache.spark.network.netty.NettyBlockTransferService' on port 45111.\n",
      "22/05/19 16:07:12 INFO NettyBlockTransferService: Server created on 8e5c1be3b20b:45111\n",
      "22/05/19 16:07:12 INFO BlockManager: Using org.apache.spark.storage.RandomBlockReplicationPolicy for block replication policy\n",
      "22/05/19 16:07:12 INFO BlockManagerMaster: Registering BlockManager BlockManagerId(driver, 8e5c1be3b20b, 45111, None)\n",
      "22/05/19 16:07:12 INFO BlockManagerMasterEndpoint: Registering block manager 8e5c1be3b20b:45111 with 1080.0 MiB RAM, BlockManagerId(driver, 8e5c1be3b20b, 45111, None)\n",
      "22/05/19 16:07:12 INFO BlockManagerMaster: Registered BlockManager BlockManagerId(driver, 8e5c1be3b20b, 45111, None)\n",
      "22/05/19 16:07:12 INFO BlockManager: Initialized BlockManager: BlockManagerId(driver, 8e5c1be3b20b, 45111, None)\n",
      "22/05/19 16:07:12 INFO StandaloneSchedulerBackend: SchedulerBackend is ready for scheduling beginning after reached minRegisteredResourcesRatio: 0.0\n"
     ]
    },
    {
     "data": {
      "text/plain": [
       "\u001b[32mimport \u001b[39m\u001b[36morg.apache.spark.sql._\n",
       "\n",
       "\u001b[39m\n",
       "\u001b[36mspark\u001b[39m: \u001b[32mSparkSession\u001b[39m = org.apache.spark.sql.SparkSession@b95b363"
      ]
     },
     "execution_count": 2,
     "metadata": {},
     "output_type": "execute_result"
    }
   ],
   "source": [
    "import org.apache.spark.sql._\n",
    "\n",
    "val spark = SparkSession.\n",
    "            builder().\n",
    "            appName(\"scala-spark-notebook\").\n",
    "            master(\"spark://spark-master:7077\").\n",
    "            config(\"spark.executor.memory\", \"512m\").\n",
    "            getOrCreate()"
   ]
  },
  {
   "cell_type": "code",
   "execution_count": 5,
   "id": "185efbd6",
   "metadata": {},
   "outputs": [
    {
     "data": {
      "text/plain": [
       "\u001b[32mimport \u001b[39m\u001b[36morg.apache.log4j.{Level, Logger};\n",
       "\u001b[39m"
      ]
     },
     "execution_count": 5,
     "metadata": {},
     "output_type": "execute_result"
    }
   ],
   "source": [
    "import org.apache.log4j.{Level, Logger};\n",
    "Logger.getLogger(\"org\").setLevel(Level.OFF);"
   ]
  },
  {
   "cell_type": "code",
   "execution_count": 6,
   "id": "413b559c",
   "metadata": {},
   "outputs": [
    {
     "data": {
      "text/plain": [
       "\u001b[36mdata\u001b[39m: \u001b[32mDataFrame\u001b[39m = [Airport name: string, Year: string ... 14 more fields]"
      ]
     },
     "execution_count": 6,
     "metadata": {},
     "output_type": "execute_result"
    }
   ],
   "source": [
    "val data = spark.read.format(\"csv\").option(\"sep\", \",\").option(\"header\", \"true\")\n",
    "    .load(\"data/russian_passenger_air_service_2.csv\")"
   ]
  },
  {
   "cell_type": "code",
   "execution_count": 7,
   "id": "777bc45c",
   "metadata": {},
   "outputs": [
    {
     "data": {
      "text/plain": [
       "\u001b[36mres6\u001b[39m: \u001b[32mLong\u001b[39m = \u001b[32m3961L\u001b[39m"
      ]
     },
     "execution_count": 7,
     "metadata": {},
     "output_type": "execute_result"
    }
   ],
   "source": [
    "data.count"
   ]
  },
  {
   "cell_type": "code",
   "execution_count": 8,
   "id": "b6a2eb91",
   "metadata": {},
   "outputs": [
    {
     "name": "stdout",
     "output_type": "stream",
     "text": [
      "root\n",
      " |-- Airport name: string (nullable = true)\n",
      " |-- Year: string (nullable = true)\n",
      " |-- January: string (nullable = true)\n",
      " |-- February: string (nullable = true)\n",
      " |-- March: string (nullable = true)\n",
      " |-- April: string (nullable = true)\n",
      " |-- May: string (nullable = true)\n",
      " |-- June: string (nullable = true)\n",
      " |-- July: string (nullable = true)\n",
      " |-- August: string (nullable = true)\n",
      " |-- September: string (nullable = true)\n",
      " |-- October: string (nullable = true)\n",
      " |-- November: string (nullable = true)\n",
      " |-- December: string (nullable = true)\n",
      " |-- Whole year: string (nullable = true)\n",
      " |-- Airport coordinates: string (nullable = true)\n",
      "\n"
     ]
    }
   ],
   "source": [
    "data.printSchema"
   ]
  },
  {
   "cell_type": "code",
   "execution_count": 9,
   "id": "c145f368",
   "metadata": {},
   "outputs": [
    {
     "name": "stdout",
     "output_type": "stream",
     "text": [
      "+--------------------+----+-------+--------+-----+-----+---+----+----+------+---------+-------+--------+--------+----------+--------------------+\n",
      "|        Airport name|Year|January|February|March|April|May|June|July|August|September|October|November|December|Whole year| Airport coordinates|\n",
      "+--------------------+----+-------+--------+-----+-----+---+----+----+------+---------+-------+--------+--------+----------+--------------------+\n",
      "|              Abakan|2020|13495.0| 14940.0|  0.0|  0.0|0.0| 0.0| 0.0|   0.0|      0.0|    0.0|     0.0|     0.0|       0.0|(Decimal('91.3997...|\n",
      "|              Aikhal|2020|    0.0|     0.0|  0.0|  0.0|0.0| 0.0| 0.0|   0.0|      0.0|    0.0|     0.0|     0.0|       0.0|(Decimal('111.543...|\n",
      "|                Loss|2020|    0.0|     0.0|  0.0|  0.0|0.0| 0.0| 0.0|   0.0|      0.0|    0.0|     0.0|     0.0|       0.0|(Decimal('125.398...|\n",
      "|             Amderma|2020|    0.0|     0.0|  0.0|  0.0|0.0| 0.0| 0.0|   0.0|      0.0|    0.0|     0.0|     0.0|       0.0|(Decimal('61.5774...|\n",
      "|     Anadyr (Carbon)|2020| 4255.0|  4565.0|  0.0|  0.0|0.0| 0.0| 0.0|   0.0|      0.0|    0.0|     0.0|     0.0|       0.0|(Decimal('177.738...|\n",
      "|   Anapa (Vitjazevo)|2020|43359.0| 33653.0|  0.0|  0.0|0.0| 0.0| 0.0|   0.0|      0.0|    0.0|     0.0|     0.0|       0.0|(Decimal('37.3415...|\n",
      "|   Apatite (Khibiny)|2020|    0.0|     0.0|  0.0|  0.0|0.0| 0.0| 0.0|   0.0|      0.0|    0.0|     0.0|     0.0|       0.0|(Decimal('33.5819...|\n",
      "|Arkhangelsk (Vask...|2020|    0.0|     0.0|  0.0|  0.0|0.0| 0.0| 0.0|   0.0|      0.0|    0.0|     0.0|     0.0|       0.0|(Decimal('40.7067...|\n",
      "|Arkhangelsk (Talagy)|2020|62698.0| 61408.0|  0.0|  0.0|0.0| 0.0| 0.0|   0.0|      0.0|    0.0|     0.0|     0.0|       0.0|(Decimal('40.7148...|\n",
      "|Astrakhan (Narima...|2020|47384.0| 46387.0|  0.0|  0.0|0.0| 0.0| 0.0|   0.0|      0.0|    0.0|     0.0|     0.0|       0.0|(Decimal('47.9998...|\n",
      "|                Trip|2020|  157.0|   165.0|  0.0|  0.0|0.0| 0.0| 0.0|   0.0|      0.0|    0.0|     0.0|     0.0|       0.0|(Decimal('138.042...|\n",
      "|              Baykit|2020|    0.0|     0.0|  0.0|  0.0|0.0| 0.0| 0.0|   0.0|      0.0|    0.0|     0.0|     0.0|       0.0|(Decimal('96.3667...|\n",
      "|Barnaul (Titov Name)|2020|34657.0| 33369.0|  0.0|  0.0|0.0| 0.0| 0.0|   0.0|      0.0|    0.0|     0.0|     0.0|       0.0|(Decimal('83.5477...|\n",
      "|            In Salah|2020|    0.0|     0.0|  0.0|  0.0|0.0| 0.0| 0.0|   0.0|      0.0|    0.0|     0.0|     0.0|       0.0|(Decimal('130.399...|\n",
      "|      white Mountain|2020|    0.0|     0.0|  0.0|  0.0|0.0| 0.0| 0.0|   0.0|      0.0|    0.0|     0.0|     0.0|       0.0|(Decimal('146.228...|\n",
      "|            Belgorod|2020|30337.0| 23907.0|  0.0|  0.0|0.0| 0.0| 0.0|   0.0|      0.0|    0.0|     0.0|     0.0|       0.0|(Decimal('36.5705...|\n",
      "|        Novy Urengoy|2020| 4472.0|  4032.0|  0.0|  0.0|0.0| 0.0| 0.0|   0.0|      0.0|    0.0|     0.0|     0.0|       0.0|(Decimal('66.6945...|\n",
      "|             Belushi|2020|    0.0|     0.0|  0.0|  0.0|0.0| 0.0| 0.0|   0.0|      0.0|    0.0|     0.0|     0.0|       0.0|(Decimal('47.6234...|\n",
      "|              Usinsk|2020|    0.0|     0.0|  0.0|  0.0|0.0| 0.0| 0.0|   0.0|      0.0|    0.0|     0.0|     0.0|       0.0|(Decimal('65.0461...|\n",
      "|        Beringovskiy|2020|   52.0|    64.0|  0.0|  0.0|0.0| 0.0| 0.0|   0.0|      0.0|    0.0|     0.0|     0.0|       0.0|(Decimal('179.293...|\n",
      "+--------------------+----+-------+--------+-----+-----+---+----+----+------+---------+-------+--------+--------+----------+--------------------+\n",
      "only showing top 20 rows\n",
      "\n"
     ]
    }
   ],
   "source": [
    "data.show();"
   ]
  },
  {
   "cell_type": "code",
   "execution_count": 11,
   "id": "0d8d3694",
   "metadata": {},
   "outputs": [
    {
     "name": "stdout",
     "output_type": "stream",
     "text": [
      "+--------------------+----+--------------------+\n",
      "|        Airport name|Year| Airport coordinates|\n",
      "+--------------------+----+--------------------+\n",
      "|              Abakan|2020|(Decimal('91.3997...|\n",
      "|              Aikhal|2020|(Decimal('111.543...|\n",
      "|                Loss|2020|(Decimal('125.398...|\n",
      "|             Amderma|2020|(Decimal('61.5774...|\n",
      "|     Anadyr (Carbon)|2020|(Decimal('177.738...|\n",
      "|   Anapa (Vitjazevo)|2020|(Decimal('37.3415...|\n",
      "|   Apatite (Khibiny)|2020|(Decimal('33.5819...|\n",
      "|Arkhangelsk (Vask...|2020|(Decimal('40.7067...|\n",
      "|Arkhangelsk (Talagy)|2020|(Decimal('40.7148...|\n",
      "|Astrakhan (Narima...|2020|(Decimal('47.9998...|\n",
      "|                Trip|2020|(Decimal('138.042...|\n",
      "|              Baykit|2020|(Decimal('96.3667...|\n",
      "|Barnaul (Titov Name)|2020|(Decimal('83.5477...|\n",
      "|            In Salah|2020|(Decimal('130.399...|\n",
      "|      white Mountain|2020|(Decimal('146.228...|\n",
      "|            Belgorod|2020|(Decimal('36.5705...|\n",
      "|        Novy Urengoy|2020|(Decimal('66.6945...|\n",
      "|             Belushi|2020|(Decimal('47.6234...|\n",
      "|              Usinsk|2020|(Decimal('65.0461...|\n",
      "|        Beringovskiy|2020|(Decimal('179.293...|\n",
      "+--------------------+----+--------------------+\n",
      "only showing top 20 rows\n",
      "\n"
     ]
    },
    {
     "data": {
      "text/plain": [
       "\u001b[36mairports\u001b[39m: \u001b[32mDataFrame\u001b[39m = [Airport name: string, Year: string ... 1 more field]"
      ]
     },
     "execution_count": 11,
     "metadata": {},
     "output_type": "execute_result"
    }
   ],
   "source": [
    "val airports = data.select(\"Airport name\",\"Year\", \"Airport coordinates\")\n",
    "airports.show()"
   ]
  },
  {
   "cell_type": "code",
   "execution_count": 12,
   "id": "43e3164c",
   "metadata": {},
   "outputs": [
    {
     "name": "stdout",
     "output_type": "stream",
     "text": [
      "+--------------------+----+--------------------+\n",
      "|        Airport name|Year| Airport coordinates|\n",
      "+--------------------+----+--------------------+\n",
      "|              Abakan|2007|(Decimal('91.3997...|\n",
      "|              Aikhal|2007|(Decimal('111.543...|\n",
      "|                Loss|2007|(Decimal('125.398...|\n",
      "|             Amderma|2007|(Decimal('61.5774...|\n",
      "|              Anadyr|2007|(Decimal('177.738...|\n",
      "|   Anapa (Vitjazevo)|2007|(Decimal('37.3415...|\n",
      "|          Antypayuta|2007|           Not found|\n",
      "|   Apatite (Khibiny)|2007|(Decimal('33.5819...|\n",
      "|Arkhangelsk (Vask...|2007|(Decimal('40.7067...|\n",
      "|Arkhangelsk (Talagy)|2007|(Decimal('40.7148...|\n",
      "|Astrakhan (Narima...|2007|(Decimal('47.9998...|\n",
      "|             Achinsk|2007|(Decimal('90.5664...|\n",
      "|                Trip|2007|(Decimal('138.042...|\n",
      "|            Auctions|2007|(Decimal('113.479...|\n",
      "|              Baykit|2007|(Decimal('96.3667...|\n",
      "|Barnaul (Titov Name)|2007|(Decimal('83.5477...|\n",
      "|            In Salah|2007|(Decimal('130.399...|\n",
      "|      white Mountain|2007|(Decimal('146.228...|\n",
      "|            Belgorod|2007|(Decimal('36.5705...|\n",
      "|        Novy Urengoy|2007|(Decimal('66.6945...|\n",
      "+--------------------+----+--------------------+\n",
      "only showing top 20 rows\n",
      "\n"
     ]
    }
   ],
   "source": [
    "airports.filter(\"Year like 2007\").show()"
   ]
  },
  {
   "cell_type": "code",
   "execution_count": 16,
   "id": "0b3c5d8d",
   "metadata": {},
   "outputs": [
    {
     "name": "stdout",
     "output_type": "stream",
     "text": [
      "+------------+----+--------------------+\n",
      "|Airport name|Year| Airport coordinates|\n",
      "+------------+----+--------------------+\n",
      "|    Belgorod|2020|(Decimal('36.5705...|\n",
      "|    Belgorod|2019|(Decimal('36.5705...|\n",
      "|    Belgorod|2018|(Decimal('36.5705...|\n",
      "|    Belgorod|2017|(Decimal('36.5705...|\n",
      "|    Belgorod|2016|(Decimal('36.5705...|\n",
      "|    Belgorod|2015|(Decimal('36.5705...|\n",
      "|    Belgorod|2014|(Decimal('36.5705...|\n",
      "|    Belgorod|2013|(Decimal('36.5705...|\n",
      "|    Belgorod|2012|(Decimal('36.5705...|\n",
      "|    Belgorod|2011|(Decimal('36.5705...|\n",
      "|    Belgorod|2010|(Decimal('36.5705...|\n",
      "|    Belgorod|2009|(Decimal('36.5705...|\n",
      "|    Belgorod|2008|(Decimal('36.5705...|\n",
      "|    Belgorod|2007|(Decimal('36.5705...|\n",
      "+------------+----+--------------------+\n",
      "\n"
     ]
    }
   ],
   "source": [
    "airports.filter(airports(\"Airport name\") === \"Belgorod\").show()"
   ]
  },
  {
   "cell_type": "code",
   "execution_count": 22,
   "id": "bbaaa024",
   "metadata": {},
   "outputs": [
    {
     "name": "stdout",
     "output_type": "stream",
     "text": [
      "+------------+----+-------+--------+-----+-----+---+----+----+------+---------+-------+--------+--------+----------+--------------------+\n",
      "|Airport name|Year|January|February|March|April|May|June|July|August|September|October|November|December|Whole year| Airport coordinates|\n",
      "+------------+----+-------+--------+-----+-----+---+----+----+------+---------+-------+--------+--------+----------+--------------------+\n",
      "|    Belgorod|2020|30337.0| 23907.0|  0.0|  0.0|0.0| 0.0| 0.0|   0.0|      0.0|    0.0|     0.0|     0.0|       0.0|(Decimal('36.5705...|\n",
      "+------------+----+-------+--------+-----+-----+---+----+----+------+---------+-------+--------+--------+----------+--------------------+\n",
      "\n"
     ]
    }
   ],
   "source": [
    "val belgorod_2020 = data.where(data(\"Airport name\") === \"Belgorod\" && data(\"Year\") === 2020).show()"
   ]
  },
  {
   "cell_type": "code",
   "execution_count": 30,
   "id": "b0489a80",
   "metadata": {},
   "outputs": [
    {
     "name": "stdout",
     "output_type": "stream",
     "text": [
      "+--------------------+----+--------+\n",
      "|        Airport name|Year|  Winter|\n",
      "+--------------------+----+--------+\n",
      "|              Abakan|2020| 28435.0|\n",
      "|              Aikhal|2020|     0.0|\n",
      "|                Loss|2020|     0.0|\n",
      "|             Amderma|2020|     0.0|\n",
      "|     Anadyr (Carbon)|2020|  8820.0|\n",
      "|   Anapa (Vitjazevo)|2020| 77012.0|\n",
      "|   Apatite (Khibiny)|2020|     0.0|\n",
      "|Arkhangelsk (Vask...|2020|     0.0|\n",
      "|Arkhangelsk (Talagy)|2020|124106.0|\n",
      "|Astrakhan (Narima...|2020| 93771.0|\n",
      "|                Trip|2020|   322.0|\n",
      "|              Baykit|2020|     0.0|\n",
      "|Barnaul (Titov Name)|2020| 68026.0|\n",
      "|            In Salah|2020|     0.0|\n",
      "|      white Mountain|2020|     0.0|\n",
      "|            Belgorod|2020| 54244.0|\n",
      "|        Novy Urengoy|2020|  8504.0|\n",
      "|             Belushi|2020|     0.0|\n",
      "|              Usinsk|2020|     0.0|\n",
      "|        Beringovskiy|2020|   116.0|\n",
      "+--------------------+----+--------+\n",
      "only showing top 20 rows\n",
      "\n"
     ]
    },
    {
     "data": {
      "text/plain": [
       "\u001b[32mimport \u001b[39m\u001b[36morg.apache.spark.sql.functions._\n",
       "\n",
       "\u001b[39m\n",
       "\u001b[36mcolumnsToSum\u001b[39m: \u001b[32mList\u001b[39m[\u001b[32mColumn\u001b[39m] = \u001b[33mList\u001b[39m(January, February, December)\n",
       "\u001b[36msum\u001b[39m: \u001b[32mDataFrame\u001b[39m = [Airport name: string, Year: string ... 15 more fields]\n",
       "\u001b[36mwinterly\u001b[39m: \u001b[32mDataFrame\u001b[39m = [Airport name: string, Year: string ... 1 more field]"
      ]
     },
     "execution_count": 30,
     "metadata": {},
     "output_type": "execute_result"
    }
   ],
   "source": [
    "import org.apache.spark.sql.functions._\n",
    "\n",
    "val columnsToSum = List(col(\"January\"), col(\"February\"), col(\"December\"))\n",
    "val sum = data.withColumn(\"Winter\", columnsToSum.reduce(_ + _))\n",
    "\n",
    "val winterly = sum.select(\"Airport name\", \"Year\", \"Winter\")\n",
    "winterly.show()"
   ]
  },
  {
   "cell_type": "code",
   "execution_count": 34,
   "id": "e5a1171c",
   "metadata": {},
   "outputs": [
    {
     "name": "stdout",
     "output_type": "stream",
     "text": [
      "+--------------------+----+----------+\n",
      "|        Airport name|Year|    Winter|\n",
      "+--------------------+----+----------+\n",
      "|Moscow (Sheremety...|2019| 6856596.8|\n",
      "|Moscow (Sheremety...|2020| 6464904.0|\n",
      "|Moscow (Sheremety...|2018| 5810778.3|\n",
      "|Moscow (Sheremety...|2017| 5228652.1|\n",
      "|Moscow (Sheremety...|2016| 4460343.4|\n",
      "| Moscow (Domodedovo)|2014|4124326.81|\n",
      "|Moscow (Sheremety...|2015| 4092460.1|\n",
      "|Moscow (Sheremety...|2014| 4051439.3|\n",
      "| Moscow (Domodedovo)|2020| 3959842.0|\n",
      "| Moscow (Domodedovo)|2013|3959807.74|\n",
      "| Moscow (Domodedovo)|2017|3918744.97|\n",
      "| Moscow (Domodedovo)|2018|3854914.81|\n",
      "| Moscow (Domodedovo)|2016|3817308.67|\n",
      "| Moscow (Domodedovo)|2015|3732748.84|\n",
      "|Moscow (Sheremety...|2013| 3654710.4|\n",
      "| Moscow (Domodedovo)|2019|3464127.84|\n",
      "| Moscow (Domodedovo)|2012|3450330.46|\n",
      "|Moscow (Sheremety...|2012| 3355236.3|\n",
      "|    Moscow (Vnukovo)|2020| 3115736.0|\n",
      "| Moscow (Domodedovo)|2011|2902981.11|\n",
      "+--------------------+----+----------+\n",
      "only showing top 20 rows\n",
      "\n"
     ]
    },
    {
     "data": {
      "text/plain": [
       "\u001b[36mtop\u001b[39m: \u001b[32mDataset\u001b[39m[\u001b[32mRow\u001b[39m] = [Airport name: string, Year: string ... 1 more field]"
      ]
     },
     "execution_count": 34,
     "metadata": {},
     "output_type": "execute_result"
    }
   ],
   "source": [
    "val top = winterly.orderBy(col(\"Winter\").desc)\n",
    "top.show()"
   ]
  },
  {
   "cell_type": "code",
   "execution_count": 36,
   "id": "7d27acb8",
   "metadata": {},
   "outputs": [
    {
     "name": "stdout",
     "output_type": "stream",
     "text": [
      "+---------------------+----+---------+\n",
      "|Airport name         |Year|Winter   |\n",
      "+---------------------+----+---------+\n",
      "|Moscow (Sheremetyevo)|2019|6856596.8|\n",
      "|Moscow (Sheremetyevo)|2020|6464904.0|\n",
      "|Moscow (Sheremetyevo)|2018|5810778.3|\n",
      "|Moscow (Sheremetyevo)|2017|5228652.1|\n",
      "|Moscow (Sheremetyevo)|2016|4460343.4|\n",
      "+---------------------+----+---------+\n",
      "\n"
     ]
    }
   ],
   "source": [
    "top.limit(5).show(false)"
   ]
  },
  {
   "cell_type": "code",
   "execution_count": null,
   "id": "a51c75d4",
   "metadata": {},
   "outputs": [],
   "source": []
  }
 ],
 "metadata": {
  "kernelspec": {
   "display_name": "Scala 2.12.10",
   "language": "scala",
   "name": "scala"
  },
  "language_info": {
   "codemirror_mode": "text/x-scala",
   "file_extension": ".sc",
   "mimetype": "text/x-scala",
   "name": "scala",
   "nbconvert_exporter": "script",
   "version": "2.12.10"
  }
 },
 "nbformat": 4,
 "nbformat_minor": 5
}
